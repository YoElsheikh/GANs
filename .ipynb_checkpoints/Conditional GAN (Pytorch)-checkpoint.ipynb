{
 "cells": [
  {
   "cell_type": "code",
   "execution_count": 87,
   "id": "1520c095",
   "metadata": {},
   "outputs": [],
   "source": [
    "import torch\n",
    "import torch.nn as nn\n",
    "import torchvision\n",
    "from torchvision import transforms, datasets\n",
    "import torch.utils.data as tud\n",
    "import torch.nn.functional as F\n",
    "from torchvision.utils import make_grid, save_image\n",
    "\n",
    "import matplotlib.pyplot as plt\n",
    "from tqdm import tqdm\n",
    "\n",
    "import imageio\n",
    "import numpy as np\n",
    "import matplotlib\n",
    "\n",
    "from torch.autograd import Variable \n",
    "# Variables wrap a Tensor\n",
    "#x = Variable(torch.ones(2, 2), requires_grad=True)\n",
    "# Variable containing:\n",
    "# 1  1\n",
    "# 1  1\n",
    "# [torch.FloatTensor of size 2x2]\n",
    "\n",
    "import torch.optim as optim #Optimizer\n",
    "from torch.utils.tensorboard import SummaryWriter #to print to tensorboard\n",
    "\n",
    "device = torch.device('cuda' if torch.cuda.is_available() else 'cpu') \n",
    "#gpu if cuda exists, else run on cpu\n"
   ]
  },
  {
   "cell_type": "code",
   "execution_count": 88,
   "id": "83cb8151",
   "metadata": {},
   "outputs": [],
   "source": [
    "batch_size = 512\n",
    "\n",
    "train = datasets.MNIST(\"\", train=True, download=True,\n",
    "                      transform = transforms.Compose([transforms.ToTensor(), transforms.Normalize((0.5,), (0.5,)),]))\n",
    "test = datasets.MNIST(\"\", train=False, download=True,\n",
    "                     transform = transforms.Compose([transforms.ToTensor(), transforms.Normalize((0.5,), (0.5,)),]))\n",
    "\n",
    "trainset = tud.DataLoader(train, batch_size=batch_size, shuffle=True)\n",
    "testset = tud.DataLoader(test, batch_size=32, shuffle=True)\n",
    "\n",
    "\n",
    "to_pil_image = transforms.ToPILImage()"
   ]
  },
  {
   "cell_type": "code",
   "execution_count": 89,
   "id": "79dcd476",
   "metadata": {},
   "outputs": [],
   "source": [
    "noise_dim  = 128"
   ]
  },
  {
   "cell_type": "markdown",
   "id": "83c2223f",
   "metadata": {},
   "source": [
    "## Discriminator and Generator:"
   ]
  },
  {
   "cell_type": "code",
   "execution_count": 90,
   "id": "d69021d7",
   "metadata": {},
   "outputs": [],
   "source": [
    "#MODIFICATIONS TO VANILLA GAN:\n",
    "'''The generator model will take random noise of dimension 128 and the digit value as input. We will use an embedding layer of size (10,10) which will have a 10-dimensional encoding for all the 10 digits.\n",
    "We will concatenate the 10-dimensional embedding and the noise to get a 110-dimensional (instead of 100 as in normal Generator model) input that will be fed to the first hidden layer. The rest of the network will perform the same way.\n",
    "Both the above changes will be required for the Discriminator model also.'''\n",
    "\n",
    "\n",
    "\n",
    "\n",
    "\n",
    "class Discriminator(nn.Module):  \n",
    "    def __init__(self, img_dim + 10):  #####ADDED\n",
    "        super().__init__()\n",
    "        self.fc1 = nn.Linear(img_dim + 10, 1024) #flattened 28*28 #syntax: self.\"name\" = nn. Linear(input, output)\n",
    "        self.fc2 = nn.Linear(1024, 512)\n",
    "        self.fc3 = nn.Linear(512, 256)\n",
    "        self.fc4 = nn.Linear(256, 1)\n",
    "        \n",
    "    def forward(self, x):   #not taking any input \"images\", so x \n",
    "        x = F.leaky_relu(self.fc1(x.view(-1, 784)), 0.2) #running leaky_relu element-wise over fc1, hp = 0.2\n",
    "        x = F.dropout(x, p=0.3)\n",
    "        x = F.leaky_relu(self.fc2(x), 0.2)\n",
    "        x = F.dropout(x, p=0.3)\n",
    "        x = F.leaky_relu(self.fc3(x))\n",
    "        x = F.dropout(x, 0.3)\n",
    "        x = self.fc4(x)\n",
    "        \n",
    "        \n",
    "        return torch.sigmoid(x)\n",
    "    \n",
    "    \n",
    "\n",
    "    \n",
    "    \n",
    "class Generator(nn.Module):\n",
    "    def __init__(self, noise_dim, img_dim):\n",
    "        super().__init__()\n",
    "        self.fc1 = nn.Linear(noise_dim, 256)\n",
    "        self.fc2 = nn.Linear(256, 512)\n",
    "        self.fc3 = nn.Linear(512, 1024)\n",
    "        self.fc4 = nn.Linear(1024, img_dim)\n",
    "        \n",
    "    def forward(self, x):\n",
    "        x = F.leaky_relu(self.fc1(x), 0.2)\n",
    "        x = F.leaky_relu(self.fc2(x), 0.2)\n",
    "        x = F.leaky_relu(self.fc3(x), 0.2)\n",
    "        x = self.fc4(x)\n",
    "       \n",
    "\n",
    "        \n",
    "        \n",
    "        return torch.tanh(x).view(-1, 1, 28, 28)  #we normalized out mnist data to be [-1, 1] as input to the disc\n",
    "                              #we do the same here since tanh produces an ouput between [-1, 1]\n",
    "       \n",
    "        "
   ]
  },
  {
   "cell_type": "code",
   "execution_count": 91,
   "id": "39489c5a",
   "metadata": {},
   "outputs": [],
   "source": [
    "noise_dim = 128 #latent vector size\n",
    "img_dim = 28*28\n",
    "\n",
    "\n",
    "Disc = Discriminator(img_dim = img_dim).to(device)\n",
    "Gen = Generator(noise_dim = noise_dim, img_dim = img_dim).to(device)\n",
    "\n",
    "\n",
    "k = 1 # number of steps to apply to the discriminator\n"
   ]
  },
  {
   "cell_type": "code",
   "execution_count": 92,
   "id": "f16c9d8e",
   "metadata": {},
   "outputs": [
    {
     "data": {
      "text/plain": [
       "Generator(\n",
       "  (fc1): Linear(in_features=128, out_features=256, bias=True)\n",
       "  (fc2): Linear(in_features=256, out_features=512, bias=True)\n",
       "  (fc3): Linear(in_features=512, out_features=1024, bias=True)\n",
       "  (fc4): Linear(in_features=1024, out_features=784, bias=True)\n",
       ")"
      ]
     },
     "execution_count": 92,
     "metadata": {},
     "output_type": "execute_result"
    }
   ],
   "source": [
    "Gen"
   ]
  },
  {
   "cell_type": "code",
   "execution_count": 93,
   "id": "1f60d446",
   "metadata": {},
   "outputs": [
    {
     "data": {
      "text/plain": [
       "Discriminator(\n",
       "  (fc1): Linear(in_features=784, out_features=1024, bias=True)\n",
       "  (fc2): Linear(in_features=1024, out_features=512, bias=True)\n",
       "  (fc3): Linear(in_features=512, out_features=256, bias=True)\n",
       "  (fc4): Linear(in_features=256, out_features=1, bias=True)\n",
       ")"
      ]
     },
     "execution_count": 93,
     "metadata": {},
     "output_type": "execute_result"
    }
   ],
   "source": [
    "Disc"
   ]
  },
  {
   "cell_type": "markdown",
   "id": "5d6db736",
   "metadata": {},
   "source": [
    "## Loss + Optimizer:"
   ]
  },
  {
   "cell_type": "code",
   "execution_count": 94,
   "id": "03db22ac",
   "metadata": {},
   "outputs": [],
   "source": [
    "#loss, doc. @ https://pytorch.org/docs/stable/generated/torch.nn.BCELoss.html\n",
    "criterion = nn.BCELoss()  #synt: criterion(network predicted output, target)\n",
    "\n",
    "#optimizers\n",
    "lr = 0.0002\n",
    "\n",
    "optim_d = optim.Adam(Disc.parameters(), lr = lr)\n",
    "optim_g = optim.Adam(Gen.parameters(), lr = lr)\n",
    "\n",
    "fixed_z = Variable(torch.randn(batch_size, noise_dim))\n",
    "step = 0 #for the tensorboard writer\n"
   ]
  },
  {
   "cell_type": "code",
   "execution_count": 95,
   "id": "bb13c594",
   "metadata": {},
   "outputs": [],
   "source": [
    "losses_g = [] # to store generator loss after each epoch\n",
    "losses_d = [] # to store discriminator loss after each epoch\n",
    "images = [] # to store images generatd by the generator"
   ]
  },
  {
   "cell_type": "code",
   "execution_count": 96,
   "id": "7a30040b",
   "metadata": {},
   "outputs": [],
   "source": [
    "#utility function for creating nosie\n",
    "\n",
    "def create_noise(sample_size, nz):\n",
    "    return torch.randn(sample_size, nz).to(device)\n",
    "\n",
    "\n",
    "#utility function to save the images\n",
    "def save_generator_image(image, path):\n",
    "    save_image(image, path)"
   ]
  },
  {
   "cell_type": "markdown",
   "id": "84d1df0d",
   "metadata": {},
   "source": [
    "## Training"
   ]
  },
  {
   "cell_type": "code",
   "execution_count": 104,
   "id": "25b2f6a0",
   "metadata": {},
   "outputs": [],
   "source": [
    "#synt: criterion(network output, target), for the discriminator we have a loss of real and fake\n",
    "#data from the generator, we optimize the network so that it can better tell by \n",
    "#we feed our first loss term the real data so that it can get good in classifying this data as ones\n",
    "#and feed the second loss the fake generator data, so that it can get good classifying this data as \n",
    "#zeros\n",
    "\n",
    "\n",
    "#the dicriminator:\n",
    "\n",
    "batch_size = 512\n",
    "\n",
    "def Disc_train(optimizer, x_real, x_fake):   #will be data_real which is image in the epoch     \n",
    "    \n",
    "    #using real data:\n",
    "    x_real, y_real = x.view(-1, 28*28), torch.ones(batch_size, 1)\n",
    "    x_real, y_real = Variable(x_real.to(device)), Variable(y_real.to(device))\n",
    "    \n",
    "    optimizer.zero_grad() #optimizer parameter is passed in the epoch\n",
    "    \n",
    "    D_output_real = Disc(x_real) #output of the disctiminator's network with real data  ###&&&&&&&&&&&&&&&&& added .view(-1)\n",
    "    D_real_loss = criterion(D_output_real, y_real) \n",
    "    \n",
    "    #using Generator (fake) data for the training:\n",
    "    \n",
    "    z = Variable(torch.randn(batch_size, noise_dim).to(device)) #100 batches for every Generator input\n",
    "    #x_fake, y_fake = Gen(z), Variable(torch.zeros(batch_size, 1).to(device))\n",
    "    \n",
    "    #x_fake is defined at the generator, i.e. produced by it\n",
    "    y_fake = Variable(torch.zeros(batch_size, 1).to(device))\n",
    "    \n",
    "    D_output_fake = Disc(x_fake)                                                     #&&&&&&&&&&&&&&&&&&&&&& added .view(-1)\n",
    "    D_fake_loss = criterion(D_output_fake, y_fake) #----> max log(D(x)) + log(1 - D(G(z))) (minimize w/ minus)\n",
    "        \n",
    "    #originally we want to maximize and for the BCELoss, there's a minus sign indicating \n",
    "    #minimizing that same loss for the disc = maximizing the original loss in the paper\n",
    "    #----> max log(D(x)) + log(1 - D(G(z))) (minimize when we add the minus sign)\n",
    "    #so for real, maximize for ones and for fake maximize for zeros\n",
    "    \n",
    "    #backpropagating\n",
    "    \n",
    "    D_real_loss.backward()\n",
    "    D_fake_loss.backward()\n",
    "    optimizer.step()\n",
    "    \n",
    "    return D_real_loss + D_fake_loss"
   ]
  },
  {
   "cell_type": "code",
   "execution_count": 105,
   "id": "81f39e60",
   "metadata": {},
   "outputs": [
    {
     "ename": "NameError",
     "evalue": "name 'data' is not defined",
     "output_type": "error",
     "traceback": [
      "\u001b[1;31m---------------------------------------------------------------------------\u001b[0m",
      "\u001b[1;31mNameError\u001b[0m                                 Traceback (most recent call last)",
      "\u001b[1;32m<ipython-input-105-7106bf6d69d5>\u001b[0m in \u001b[0;36m<module>\u001b[1;34m\u001b[0m\n\u001b[1;32m----> 1\u001b[1;33m \u001b[0mplt\u001b[0m\u001b[1;33m.\u001b[0m\u001b[0mimshow\u001b[0m\u001b[1;33m(\u001b[0m\u001b[0mdata\u001b[0m\u001b[1;33m[\u001b[0m\u001b[1;36m0\u001b[0m\u001b[1;33m]\u001b[0m\u001b[1;33m[\u001b[0m\u001b[1;36m1\u001b[0m\u001b[1;33m]\u001b[0m\u001b[1;33m.\u001b[0m\u001b[0mview\u001b[0m\u001b[1;33m(\u001b[0m\u001b[1;36m28\u001b[0m\u001b[1;33m,\u001b[0m\u001b[1;36m28\u001b[0m\u001b[1;33m)\u001b[0m\u001b[1;33m)\u001b[0m\u001b[1;33m\u001b[0m\u001b[1;33m\u001b[0m\u001b[0m\n\u001b[0m\u001b[0;32m      2\u001b[0m \u001b[1;33m\u001b[0m\u001b[0m\n\u001b[0;32m      3\u001b[0m \u001b[0mprint\u001b[0m\u001b[1;33m(\u001b[0m\u001b[0mdata\u001b[0m\u001b[1;33m[\u001b[0m\u001b[1;36m1\u001b[0m\u001b[1;33m]\u001b[0m\u001b[1;33m[\u001b[0m\u001b[1;36m1\u001b[0m\u001b[1;33m]\u001b[0m\u001b[1;33m)\u001b[0m\u001b[1;33m\u001b[0m\u001b[1;33m\u001b[0m\u001b[0m\n",
      "\u001b[1;31mNameError\u001b[0m: name 'data' is not defined"
     ]
    }
   ],
   "source": [
    "plt.imshow(data[0][1].view(28,28))\n",
    "\n",
    "print(data[1][1])\n"
   ]
  },
  {
   "cell_type": "code",
   "execution_count": 106,
   "id": "3e16cb8b",
   "metadata": {},
   "outputs": [
    {
     "data": {
      "text/plain": [
       "torch.Size([512, 1, 28, 28])"
      ]
     },
     "execution_count": 106,
     "metadata": {},
     "output_type": "execute_result"
    }
   ],
   "source": [
    "x_fake.shape"
   ]
  },
  {
   "cell_type": "code",
   "execution_count": 107,
   "id": "63963215",
   "metadata": {},
   "outputs": [
    {
     "data": {
      "image/png": "[encoded data removed]",
      "text/plain": [
       "<IPython.core.display.Image object>"
      ]
     },
     "execution_count": 107,
     "metadata": {},
     "output_type": "execute_result"
    }
   ],
   "source": [
    "from IPython.display import Image\n",
    "Image(\"BCELoss doc.png\")"
   ]
  },
  {
   "cell_type": "code",
   "execution_count": 108,
   "id": "39d81ea7",
   "metadata": {},
   "outputs": [
    {
     "data": {
      "image/png": "[encoded data removed]",
      "text/plain": [
       "<IPython.core.display.Image object>"
      ]
     },
     "execution_count": 108,
     "metadata": {},
     "output_type": "execute_result"
    }
   ],
   "source": [
    "from IPython.display import Image\n",
    "Image(\"loss.png\")"
   ]
  },
  {
   "cell_type": "code",
   "execution_count": 109,
   "id": "2709fc1a",
   "metadata": {},
   "outputs": [],
   "source": [
    "#the Generator:\n",
    "\n",
    "def Gen_train(optimizer, x_fake): #x_fake is produced by the Generator, passed at the epoch\n",
    "    \n",
    "\n",
    "\n",
    "    y = Variable(torch.ones(batch_size, 1).to(device))\n",
    "    \n",
    "    optimizer.zero_grad()\n",
    "\n",
    "\n",
    "    #G_output = Gen(z) # z --> Gen --> Disc(Gen) = D_output\n",
    "    D_output = Disc(x_fake) #was of G_output\n",
    "    G_loss = criterion(D_output, y) #-----> min log(1 - D(G(z))) <-> max log(D(G(z)) (so, second term\n",
    "    #is zero and first term we pass on D(G(z)) \n",
    "\n",
    "    #backpropagating\n",
    "    G_loss.backward()\n",
    "    optimizer.step()\n",
    "\n",
    "    return G_loss"
   ]
  },
  {
   "cell_type": "code",
   "execution_count": 112,
   "id": "75827aef",
   "metadata": {},
   "outputs": [],
   "source": [
    "noise_dim = 128 \n",
    "sample_size = 64 #generator will produce 8x8 images as it is taking the batch for independant generation as 64\n",
    "# create the noise vector\n",
    "noise = create_noise(sample_size, noise_dim) #to be used as an independant testing vector, randomly assigned in each epoch to test the generator"
   ]
  },
  {
   "cell_type": "code",
   "execution_count": null,
   "id": "28202f40",
   "metadata": {},
   "outputs": [
    {
     "name": "stderr",
     "output_type": "stream",
     "text": [
      "118it [00:25,  4.62it/s]                         \n"
     ]
    },
    {
     "name": "stdout",
     "output_type": "stream",
     "text": [
      "Epoch 0 of 100\n",
      "Generator loss: 1.06169593, Discriminator loss: 1.22254264\n"
     ]
    },
    {
     "name": "stderr",
     "output_type": "stream",
     "text": [
      "118it [00:28,  4.19it/s]                         \n"
     ]
    },
    {
     "name": "stdout",
     "output_type": "stream",
     "text": [
      "Epoch 1 of 100\n",
      "Generator loss: 0.81916779, Discriminator loss: 1.30897796\n"
     ]
    },
    {
     "name": "stderr",
     "output_type": "stream",
     "text": [
      "118it [00:24,  4.73it/s]                         \n"
     ]
    },
    {
     "name": "stdout",
     "output_type": "stream",
     "text": [
      "Epoch 2 of 100\n",
      "Generator loss: 1.41202366, Discriminator loss: 1.22391486\n"
     ]
    },
    {
     "name": "stderr",
     "output_type": "stream",
     "text": [
      "118it [00:30,  3.85it/s]                         \n"
     ]
    },
    {
     "name": "stdout",
     "output_type": "stream",
     "text": [
      "Epoch 3 of 100\n",
      "Generator loss: 11.32672024, Discriminator loss: 1.14543796\n"
     ]
    },
    {
     "name": "stderr",
     "output_type": "stream",
     "text": [
      "118it [00:27,  4.25it/s]                         \n"
     ]
    },
    {
     "name": "stdout",
     "output_type": "stream",
     "text": [
      "Epoch 4 of 100\n",
      "Generator loss: 3.41611624, Discriminator loss: 0.92092121\n"
     ]
    },
    {
     "name": "stderr",
     "output_type": "stream",
     "text": [
      "118it [00:28,  4.12it/s]                         \n"
     ]
    },
    {
     "name": "stdout",
     "output_type": "stream",
     "text": [
      "Epoch 5 of 100\n",
      "Generator loss: 1.96077859, Discriminator loss: 0.92440146\n"
     ]
    },
    {
     "name": "stderr",
     "output_type": "stream",
     "text": [
      "118it [00:28,  4.13it/s]                         \n"
     ]
    },
    {
     "name": "stdout",
     "output_type": "stream",
     "text": [
      "Epoch 6 of 100\n",
      "Generator loss: 1.58164823, Discriminator loss: 1.17467713\n"
     ]
    },
    {
     "name": "stderr",
     "output_type": "stream",
     "text": [
      "118it [00:27,  4.30it/s]                         \n"
     ]
    },
    {
     "name": "stdout",
     "output_type": "stream",
     "text": [
      "Epoch 7 of 100\n",
      "Generator loss: 1.20853961, Discriminator loss: 1.15848184\n"
     ]
    },
    {
     "name": "stderr",
     "output_type": "stream",
     "text": [
      "118it [00:30,  3.87it/s]                         \n"
     ]
    },
    {
     "name": "stdout",
     "output_type": "stream",
     "text": [
      "Epoch 8 of 100\n",
      "Generator loss: 1.46916485, Discriminator loss: 1.12056518\n"
     ]
    },
    {
     "name": "stderr",
     "output_type": "stream",
     "text": [
      "118it [00:29,  4.03it/s]                         \n"
     ]
    },
    {
     "name": "stdout",
     "output_type": "stream",
     "text": [
      "Epoch 9 of 100\n",
      "Generator loss: 1.31209779, Discriminator loss: 1.03498554\n"
     ]
    },
    {
     "name": "stderr",
     "output_type": "stream",
     "text": [
      "118it [00:27,  4.30it/s]                         \n"
     ]
    },
    {
     "name": "stdout",
     "output_type": "stream",
     "text": [
      "Epoch 10 of 100\n",
      "Generator loss: 1.46075130, Discriminator loss: 1.01053178\n"
     ]
    },
    {
     "name": "stderr",
     "output_type": "stream",
     "text": [
      "118it [00:25,  4.63it/s]                         \n"
     ]
    },
    {
     "name": "stdout",
     "output_type": "stream",
     "text": [
      "Epoch 11 of 100\n",
      "Generator loss: 2.83350682, Discriminator loss: 0.83613825\n"
     ]
    },
    {
     "name": "stderr",
     "output_type": "stream",
     "text": [
      "118it [00:28,  4.12it/s]                         \n"
     ]
    },
    {
     "name": "stdout",
     "output_type": "stream",
     "text": [
      "Epoch 12 of 100\n",
      "Generator loss: 2.94789696, Discriminator loss: 0.85070354\n"
     ]
    },
    {
     "name": "stderr",
     "output_type": "stream",
     "text": [
      "118it [00:27,  4.32it/s]                         \n"
     ]
    },
    {
     "name": "stdout",
     "output_type": "stream",
     "text": [
      "Epoch 13 of 100\n",
      "Generator loss: 3.54104877, Discriminator loss: 0.98198706\n"
     ]
    },
    {
     "name": "stderr",
     "output_type": "stream",
     "text": [
      "118it [00:28,  4.11it/s]                         \n"
     ]
    },
    {
     "name": "stdout",
     "output_type": "stream",
     "text": [
      "Epoch 14 of 100\n",
      "Generator loss: 2.61247587, Discriminator loss: 0.76781756\n"
     ]
    },
    {
     "name": "stderr",
     "output_type": "stream",
     "text": [
      "118it [00:26,  4.47it/s]                         \n"
     ]
    },
    {
     "name": "stdout",
     "output_type": "stream",
     "text": [
      "Epoch 15 of 100\n",
      "Generator loss: 3.57937860, Discriminator loss: 0.88123477\n"
     ]
    },
    {
     "name": "stderr",
     "output_type": "stream",
     "text": [
      "118it [00:29,  4.03it/s]                         \n"
     ]
    },
    {
     "name": "stdout",
     "output_type": "stream",
     "text": [
      "Epoch 16 of 100\n",
      "Generator loss: 3.21173739, Discriminator loss: 0.57335985\n"
     ]
    },
    {
     "name": "stderr",
     "output_type": "stream",
     "text": [
      "118it [00:30,  3.90it/s]                         \n"
     ]
    },
    {
     "name": "stdout",
     "output_type": "stream",
     "text": [
      "Epoch 17 of 100\n",
      "Generator loss: 2.94599986, Discriminator loss: 0.63554376\n"
     ]
    },
    {
     "name": "stderr",
     "output_type": "stream",
     "text": [
      "118it [00:31,  3.71it/s]                         \n"
     ]
    },
    {
     "name": "stdout",
     "output_type": "stream",
     "text": [
      "Epoch 18 of 100\n",
      "Generator loss: 3.32978797, Discriminator loss: 0.56676847\n"
     ]
    },
    {
     "name": "stderr",
     "output_type": "stream",
     "text": [
      "118it [00:28,  4.09it/s]                         \n"
     ]
    },
    {
     "name": "stdout",
     "output_type": "stream",
     "text": [
      "Epoch 19 of 100\n",
      "Generator loss: 2.19216752, Discriminator loss: 0.71129245\n"
     ]
    },
    {
     "name": "stderr",
     "output_type": "stream",
     "text": [
      "118it [00:27,  4.22it/s]                         \n"
     ]
    },
    {
     "name": "stdout",
     "output_type": "stream",
     "text": [
      "Epoch 20 of 100\n",
      "Generator loss: 2.51073599, Discriminator loss: 0.62494183\n"
     ]
    },
    {
     "name": "stderr",
     "output_type": "stream",
     "text": [
      "118it [00:27,  4.22it/s]                         \n"
     ]
    },
    {
     "name": "stdout",
     "output_type": "stream",
     "text": [
      "Epoch 21 of 100\n",
      "Generator loss: 2.56944990, Discriminator loss: 0.51675874\n"
     ]
    },
    {
     "name": "stderr",
     "output_type": "stream",
     "text": [
      "118it [00:28,  4.12it/s]                         \n"
     ]
    },
    {
     "name": "stdout",
     "output_type": "stream",
     "text": [
      "Epoch 22 of 100\n",
      "Generator loss: 2.62568426, Discriminator loss: 0.52035195\n"
     ]
    },
    {
     "name": "stderr",
     "output_type": "stream",
     "text": [
      "118it [00:29,  4.04it/s]                         \n"
     ]
    },
    {
     "name": "stdout",
     "output_type": "stream",
     "text": [
      "Epoch 23 of 100\n",
      "Generator loss: 3.14966035, Discriminator loss: 0.42407233\n"
     ]
    },
    {
     "name": "stderr",
     "output_type": "stream",
     "text": [
      "118it [00:26,  4.49it/s]                         \n"
     ]
    },
    {
     "name": "stdout",
     "output_type": "stream",
     "text": [
      "Epoch 24 of 100\n",
      "Generator loss: 3.32419372, Discriminator loss: 0.49595186\n"
     ]
    },
    {
     "name": "stderr",
     "output_type": "stream",
     "text": [
      "118it [00:26,  4.45it/s]                         \n"
     ]
    },
    {
     "name": "stdout",
     "output_type": "stream",
     "text": [
      "Epoch 25 of 100\n",
      "Generator loss: 3.15032983, Discriminator loss: 0.40373498\n"
     ]
    },
    {
     "name": "stderr",
     "output_type": "stream",
     "text": [
      "118it [00:28,  4.16it/s]                         \n"
     ]
    },
    {
     "name": "stdout",
     "output_type": "stream",
     "text": [
      "Epoch 26 of 100\n",
      "Generator loss: 4.26008081, Discriminator loss: 0.35516840\n"
     ]
    },
    {
     "name": "stderr",
     "output_type": "stream",
     "text": [
      "118it [00:33,  3.49it/s]                         \n"
     ]
    },
    {
     "name": "stdout",
     "output_type": "stream",
     "text": [
      "Epoch 27 of 100\n",
      "Generator loss: 3.44684052, Discriminator loss: 0.41009715\n"
     ]
    },
    {
     "name": "stderr",
     "output_type": "stream",
     "text": [
      "118it [00:29,  3.99it/s]                         \n"
     ]
    },
    {
     "name": "stdout",
     "output_type": "stream",
     "text": [
      "Epoch 28 of 100\n",
      "Generator loss: 3.52597427, Discriminator loss: 0.36051247\n"
     ]
    },
    {
     "name": "stderr",
     "output_type": "stream",
     "text": [
      "118it [00:31,  3.80it/s]                         \n"
     ]
    },
    {
     "name": "stdout",
     "output_type": "stream",
     "text": [
      "Epoch 29 of 100\n",
      "Generator loss: 3.89381576, Discriminator loss: 0.35004503\n"
     ]
    },
    {
     "name": "stderr",
     "output_type": "stream",
     "text": [
      "118it [00:31,  3.74it/s]                         \n"
     ]
    },
    {
     "name": "stdout",
     "output_type": "stream",
     "text": [
      "Epoch 30 of 100\n",
      "Generator loss: 3.37698722, Discriminator loss: 0.34469447\n"
     ]
    },
    {
     "name": "stderr",
     "output_type": "stream",
     "text": [
      " 67%|██████▋   | 78/117 [00:19<00:09,  4.25it/s]"
     ]
    }
   ],
   "source": [
    "epochs = 100\n",
    "for epoch in range(epochs):\n",
    "    loss_d = 0.0\n",
    "    loss_g = 0.0\n",
    "    for batch_idx, (x,_) in tqdm(enumerate(trainset), total=int(len(train)/trainset.batch_size)):\n",
    "        x = x.to(device)\n",
    "        batch_size = len(x)\n",
    "    \n",
    "    # run the discriminator for k number of steps\n",
    "        for step in range(k):\n",
    "            x_fake = Gen(create_noise(batch_size, noise_dim)).detach() #i think we datch in case we have more than k = 1 step in order to train the discriminator on the same generator output for these steps \n",
    "            x_real = x\n",
    "            # train the discriminator network\n",
    "            loss_d += Disc_train(optim_d, x_real, x_fake)\n",
    "        x_fake = Gen(create_noise(batch_size, noise_dim))    \n",
    "        # train the generator network\n",
    "        loss_g += Gen_train(optim_g, x_fake)\n",
    "        \n",
    "        \n",
    "    # create the final fake image for the epoch\n",
    "    generated_img = Gen(noise).cpu().detach()\n",
    "    # make the images as grid\n",
    "    generated_img = make_grid(generated_img)\n",
    "    # save the generated torch tensor models to disk\n",
    "    #save_generator_image(generated_img, gen_img{epoch}.png\")\n",
    "    save_generator_image(generated_img, f\"{epoch}.png\")\n",
    "    images.append(generated_img)\n",
    "    \n",
    "    epoch_loss_g = loss_g / batch_idx # total generator loss for the epoch\n",
    "    epoch_loss_d = loss_d / batch_idx # total discriminator loss for the epoch\n",
    "    losses_g.append(epoch_loss_g)\n",
    "    losses_d.append(epoch_loss_d)\n",
    "    \n",
    "    print(f\"Epoch {epoch} of {epochs}\")\n",
    "    print(f\"Generator loss: {epoch_loss_g:.8f}, Discriminator loss: {epoch_loss_d:.8f}\")"
   ]
  },
  {
   "cell_type": "code",
   "execution_count": 18,
   "id": "b5731c1a",
   "metadata": {
    "scrolled": true
   },
   "outputs": [
    {
     "data": {
      "text/plain": [
       "512"
      ]
     },
     "execution_count": 18,
     "metadata": {},
     "output_type": "execute_result"
    }
   ],
   "source": [
    "batch_size"
   ]
  },
  {
   "cell_type": "code",
   "execution_count": 16,
   "id": "ae5f3a52",
   "metadata": {},
   "outputs": [
    {
     "data": {
      "text/plain": [
       "torch.Size([96, 1, 28, 28])"
      ]
     },
     "execution_count": 16,
     "metadata": {},
     "output_type": "execute_result"
    }
   ],
   "source": [
    "x.shape"
   ]
  },
  {
   "cell_type": "code",
   "execution_count": null,
   "id": "54379d0e",
   "metadata": {},
   "outputs": [],
   "source": []
  }
 ],
 "metadata": {
  "kernelspec": {
   "display_name": "Python 3",
   "language": "python",
   "name": "python3"
  },
  "language_info": {
   "codemirror_mode": {
    "name": "ipython",
    "version": 3
   },
   "file_extension": ".py",
   "mimetype": "text/x-python",
   "name": "python",
   "nbconvert_exporter": "python",
   "pygments_lexer": "ipython3",
   "version": "3.8.10"
  }
 },
 "nbformat": 4,
 "nbformat_minor": 5
}

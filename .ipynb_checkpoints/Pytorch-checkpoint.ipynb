{
 "cells": [
  {
   "cell_type": "markdown",
   "id": "d59efb2d",
   "metadata": {},
   "source": [
    "## Data pereparation:"
   ]
  },
  {
   "cell_type": "code",
   "execution_count": 196,
   "id": "f455ee20",
   "metadata": {},
   "outputs": [],
   "source": [
    "import torch\n",
    "import torchvision\n",
    "from torchvision import transforms, datasets #dataset within Pytorch\n",
    "                                            #transforms is what we will apply to the data\n",
    "import torch.utils.data as tud\n",
    "\n",
    "import matplotlib.pyplot as plt\n"
   ]
  },
  {
   "cell_type": "code",
   "execution_count": 197,
   "id": "f010f4a1",
   "metadata": {},
   "outputs": [],
   "source": [
    "train = datasets.MNIST(\"\", train=True, download=True,   #first spot specifies where we want the data to go \"\" means we want it to go locally\n",
    "                      transform = transforms.Compose([transforms.ToTensor()]))  #here we use the \n",
    "#transform to tensor because the MNIST data isn't in tensor format\n",
    "\n",
    "test = datasets.MNIST(\"\", train=False, download=True,\n",
    "                     transform = transforms.Compose([transforms.ToTensor()]))"
   ]
  },
  {
   "cell_type": "code",
   "execution_count": 198,
   "id": "156e3f29",
   "metadata": {},
   "outputs": [],
   "source": [
    "trainset = tud.DataLoader(train, batch_size=10, shuffle=True)\n",
    "testset = tud.DataLoader(test, batch_size=10, shuffle=True)"
   ]
  },
  {
   "cell_type": "code",
   "execution_count": 199,
   "id": "8717011b",
   "metadata": {},
   "outputs": [
    {
     "name": "stdout",
     "output_type": "stream",
     "text": [
      "[tensor([[[[0., 0., 0.,  ..., 0., 0., 0.],\n",
      "          [0., 0., 0.,  ..., 0., 0., 0.],\n",
      "          [0., 0., 0.,  ..., 0., 0., 0.],\n",
      "          ...,\n",
      "          [0., 0., 0.,  ..., 0., 0., 0.],\n",
      "          [0., 0., 0.,  ..., 0., 0., 0.],\n",
      "          [0., 0., 0.,  ..., 0., 0., 0.]]],\n",
      "\n",
      "\n",
      "        [[[0., 0., 0.,  ..., 0., 0., 0.],\n",
      "          [0., 0., 0.,  ..., 0., 0., 0.],\n",
      "          [0., 0., 0.,  ..., 0., 0., 0.],\n",
      "          ...,\n",
      "          [0., 0., 0.,  ..., 0., 0., 0.],\n",
      "          [0., 0., 0.,  ..., 0., 0., 0.],\n",
      "          [0., 0., 0.,  ..., 0., 0., 0.]]],\n",
      "\n",
      "\n",
      "        [[[0., 0., 0.,  ..., 0., 0., 0.],\n",
      "          [0., 0., 0.,  ..., 0., 0., 0.],\n",
      "          [0., 0., 0.,  ..., 0., 0., 0.],\n",
      "          ...,\n",
      "          [0., 0., 0.,  ..., 0., 0., 0.],\n",
      "          [0., 0., 0.,  ..., 0., 0., 0.],\n",
      "          [0., 0., 0.,  ..., 0., 0., 0.]]],\n",
      "\n",
      "\n",
      "        ...,\n",
      "\n",
      "\n",
      "        [[[0., 0., 0.,  ..., 0., 0., 0.],\n",
      "          [0., 0., 0.,  ..., 0., 0., 0.],\n",
      "          [0., 0., 0.,  ..., 0., 0., 0.],\n",
      "          ...,\n",
      "          [0., 0., 0.,  ..., 0., 0., 0.],\n",
      "          [0., 0., 0.,  ..., 0., 0., 0.],\n",
      "          [0., 0., 0.,  ..., 0., 0., 0.]]],\n",
      "\n",
      "\n",
      "        [[[0., 0., 0.,  ..., 0., 0., 0.],\n",
      "          [0., 0., 0.,  ..., 0., 0., 0.],\n",
      "          [0., 0., 0.,  ..., 0., 0., 0.],\n",
      "          ...,\n",
      "          [0., 0., 0.,  ..., 0., 0., 0.],\n",
      "          [0., 0., 0.,  ..., 0., 0., 0.],\n",
      "          [0., 0., 0.,  ..., 0., 0., 0.]]],\n",
      "\n",
      "\n",
      "        [[[0., 0., 0.,  ..., 0., 0., 0.],\n",
      "          [0., 0., 0.,  ..., 0., 0., 0.],\n",
      "          [0., 0., 0.,  ..., 0., 0., 0.],\n",
      "          ...,\n",
      "          [0., 0., 0.,  ..., 0., 0., 0.],\n",
      "          [0., 0., 0.,  ..., 0., 0., 0.],\n",
      "          [0., 0., 0.,  ..., 0., 0., 0.]]]]), tensor([2, 3, 2, 3, 5, 3, 5, 0, 3, 7])]\n"
     ]
    }
   ],
   "source": [
    "#iterating over one batch of ten samples using break to stop at the first batch\n",
    "#labels at \"tensor\"\n",
    "\n",
    "for data in trainset:\n",
    "    print(data)\n",
    "    break\n",
    "    \n",
    "\n",
    "    \n",
    "   \n",
    "    "
   ]
  },
  {
   "cell_type": "code",
   "execution_count": 200,
   "id": "9a52f6e7",
   "metadata": {},
   "outputs": [
    {
     "name": "stdout",
     "output_type": "stream",
     "text": [
      "torch.Size([1, 28, 28])\n"
     ]
    }
   ],
   "source": [
    "x, y = data[0][0], data[1][0]   #data[0th tensor of tensors, 0th element of that tensor] \n",
    "                                #so data[0][something] refers to the images and data[1][something]\n",
    "                                #refers to the labels\n",
    "\n",
    "#print(data[0][0])     \n",
    "print(data[0][1].shape)\n"
   ]
  },
  {
   "cell_type": "code",
   "execution_count": 201,
   "id": "d55b2eb3",
   "metadata": {},
   "outputs": [
    {
     "data": {
      "text/plain": [
       "<matplotlib.image.AxesImage at 0x1ef053f0100>"
      ]
     },
     "execution_count": 201,
     "metadata": {},
     "output_type": "execute_result"
    },
    {
     "data": {
      "image/png": "[encoded data removed]",
      "text/plain": [
       "<Figure size 432x288 with 1 Axes>"
      ]
     },
     "metadata": {
      "needs_background": "light"
     },
     "output_type": "display_data"
    }
   ],
   "source": [
    "#to plot the image with plt.imshow we need to get rid of the third grey scale dimention, \n",
    "#i.e. reshaping with view\n",
    "\n",
    "plt.imshow(data[0][0].view(28,28))"
   ]
  },
  {
   "cell_type": "markdown",
   "id": "29a3632b",
   "metadata": {},
   "source": [
    "## Balancing the data:"
   ]
  },
  {
   "cell_type": "markdown",
   "id": "e4d7746b",
   "metadata": {},
   "source": [
    "Motiation: is that the presece of a prominent feature will force the model to overfit to that\n",
    "dominant feature"
   ]
  },
  {
   "cell_type": "code",
   "execution_count": 202,
   "id": "d6495a89",
   "metadata": {},
   "outputs": [
    {
     "name": "stdout",
     "output_type": "stream",
     "text": [
      "{0: 5923, 1: 6742, 2: 5958, 3: 6131, 4: 5842, 5: 5421, 6: 5918, 7: 6265, 8: 5851, 9: 5949}\n"
     ]
    }
   ],
   "source": [
    "#checking the samples for each label\n",
    "\n",
    "tot = 0\n",
    "counter = {0:0, 1:0, 2:0, 3:0, 4:0, 5:0, 6:0, 7:0, 8:0, 9:0}\n",
    "\n",
    "for data in trainset:\n",
    "    samples, labels = data \n",
    "    for i in labels:\n",
    "        counter[int(i)]+= 1\n",
    "        tot+=1\n",
    "        \n",
    "print(counter)"
   ]
  },
  {
   "cell_type": "code",
   "execution_count": 203,
   "id": "dcf859cc",
   "metadata": {},
   "outputs": [
    {
     "name": "stdout",
     "output_type": "stream",
     "text": [
      "0: 9.871666666666666%\n",
      "1: 11.236666666666666%\n",
      "2: 9.93%\n",
      "3: 10.218333333333334%\n",
      "4: 9.736666666666666%\n",
      "5: 9.035%\n",
      "6: 9.863333333333333%\n",
      "7: 10.441666666666666%\n",
      "8: 9.751666666666667%\n",
      "9: 9.915000000000001%\n"
     ]
    }
   ],
   "source": [
    "for i in counter:  #looping through the elements in counter   \n",
    "    print(f\"{i}: {counter[i]/tot*100}%\")"
   ]
  },
  {
   "cell_type": "markdown",
   "id": "2f6c19d6",
   "metadata": {},
   "source": [
    "data is balanced"
   ]
  },
  {
   "cell_type": "markdown",
   "id": "e0c95c56",
   "metadata": {},
   "source": [
    "## Building the NN"
   ]
  },
  {
   "cell_type": "code",
   "execution_count": 204,
   "id": "b86c5a7e",
   "metadata": {},
   "outputs": [],
   "source": [
    "import torch.nn as nn  #the OOP (initializing parameters)\n",
    "import torch.nn.functional as F #funtions, passing parameters\n"
   ]
  },
  {
   "cell_type": "code",
   "execution_count": 205,
   "id": "9056865d",
   "metadata": {},
   "outputs": [
    {
     "name": "stdout",
     "output_type": "stream",
     "text": [
      "Net(\n",
      "  (fc1): Linear(in_features=784, out_features=64, bias=True)\n",
      "  (fc2): Linear(in_features=64, out_features=64, bias=True)\n",
      "  (fc3): Linear(in_features=64, out_features=64, bias=True)\n",
      "  (fc4): Linear(in_features=64, out_features=10, bias=True)\n",
      ")\n"
     ]
    }
   ],
   "source": [
    "#after defining the class, we will define in the (__init__) method the fully connected  layers\n",
    "#and in another method, we will define how data passes\n",
    "\n",
    "class Net(nn.Module):  #class inhering attributes from nn.Module\n",
    "    def __init__(self):\n",
    "        super().__init__()\n",
    "#Return a proxy object that delegates method calls to a parent or sibling class of type. \n",
    "#This is useful for accessing inherited methods that have been overridden in a class.\n",
    "#see Python documentation: https://docs.python.org/2/library/functions.html#super\n",
    "        self.fc1 = nn.Linear(784, 64) #flattened 28*28 #syntax: self.\"name\" = nn. Linear(input, output)\n",
    "        self.fc2 = nn.Linear(64, 64)\n",
    "        self.fc3 = nn.Linear(64, 64)\n",
    "        self.fc4 = nn.Linear(64, 10)\n",
    "        \n",
    "        \n",
    "        #defining the feedforward\n",
    "    def forward(self, x):    #x is the input\n",
    "        x = F.relu(self.fc1(x)) #running relu element-wise over fc1\n",
    "        x = F.relu(self.fc2(x))\n",
    "        x = F.relu(self.fc3(x))\n",
    "        x = self.fc4(x)\n",
    "        \n",
    "        return F.log_softmax(x, dim=1) #applying softmax on the last layer, distributing \n",
    "                                       #about the output tensor from layer 4 that is of \n",
    "                                       #dimention = 1\n",
    "\n",
    "        \n",
    "net = Net()\n",
    "print(net)\n"
   ]
  },
  {
   "cell_type": "code",
   "execution_count": 206,
   "id": "8e0f9244",
   "metadata": {},
   "outputs": [
    {
     "data": {
      "text/plain": [
       "tensor([[-2.3679, -2.3431, -2.3263, -2.4367, -2.2887, -2.2855, -2.1762, -2.2069,\n",
       "         -2.3502, -2.2713]], grad_fn=<LogSoftmaxBackward>)"
      ]
     },
     "execution_count": 206,
     "metadata": {},
     "output_type": "execute_result"
    }
   ],
   "source": [
    "#passing random pixel data\n",
    "X = torch.rand((28,28))\n",
    "X = X.view(1,28*28)\n",
    "output = net(X)\n",
    "#X\n",
    "output\n",
    "\n",
    "\n"
   ]
  },
  {
   "cell_type": "markdown",
   "id": "ad9c2a51",
   "metadata": {},
   "source": [
    "## Optimizer"
   ]
  },
  {
   "cell_type": "code",
   "execution_count": 209,
   "id": "d59b00d3",
   "metadata": {},
   "outputs": [
    {
     "name": "stdout",
     "output_type": "stream",
     "text": [
      "Accuracy:  0.9709166666666667\n",
      "loss:  tensor(0.0152, grad_fn=<NllLossBackward>)\n",
      "Accuracy:  0.9719833333333333\n",
      "loss:  tensor(0.1617, grad_fn=<NllLossBackward>)\n",
      "Accuracy:  0.972575\n",
      "loss:  tensor(0.0263, grad_fn=<NllLossBackward>)\n"
     ]
    }
   ],
   "source": [
    "import torch.optim as optim\n",
    "\n",
    "optimizer = optim.Adam(net.parameters(), lr=0.003)\n",
    "\n",
    "num__of_epochs = 3\n",
    "\n",
    "for epoch in range(num__of_epochs):\n",
    "    for data in trainset:\n",
    "        X, y = data\n",
    "        net.zero_grad() #In PyTorch, we need to set the gradients to zero before starting to do backpropragation because\n",
    "                        #PyTorch accumulates the gradients on subsequent backward passes.\n",
    "                        #This is convenient while training RNNs. So, the default action is to accumulate (i.e. sum) \n",
    "                        #the gradients on every loss.backward() call.\n",
    "\n",
    "                        #Because of this, when you start your training loop, \n",
    "                        #ideally you should zero out the gradients so that you do the parameter update correctly.\n",
    "                        #Else the gradient would point in some other direction than the \n",
    "                        #intended direction towards the minimum (or maximum, in case of maximization objectives).\n",
    "                        \n",
    "        output = net(X.view(-1, 28*28))                     \n",
    "        loss = F.nll_loss(output, y)                 \n",
    "        loss.backward()\n",
    "        optimizer.step() #adjusting the weights\n",
    "    \n",
    "    with torch.no_grad():\n",
    "        for data in trainset:\n",
    "            X, y = data\n",
    "            output = net(X.view(-1, 28*28))  #network is already trained and weights are adjusted after epoching \n",
    "            for idx, i in enumerate(output):\n",
    "                if torch.argmax(i) == y[idx]:\n",
    "                    correct += 1\n",
    "                total += 1\n",
    "    print (\"Accuracy: \", correct/total)\n",
    "        \n",
    "        \n",
    "    print (\"loss: \", loss)\n",
    "                        "
   ]
  },
  {
   "cell_type": "markdown",
   "id": "8fa74f82",
   "metadata": {},
   "source": [
    "## Evaluating the model after 3 epochs:"
   ]
  },
  {
   "cell_type": "code",
   "execution_count": 210,
   "id": "20212798",
   "metadata": {},
   "outputs": [
    {
     "name": "stdout",
     "output_type": "stream",
     "text": [
      "Accuracy:  0.97435\n"
     ]
    }
   ],
   "source": [
    "#for/after the 3 epochs, i.e. for the final model, check above for individual epochs\n",
    "\n",
    "correct = 0\n",
    "total = 0\n",
    "\n",
    "with torch.no_grad():\n",
    "    for data in trainset:\n",
    "        X, y = data\n",
    "        output = net(X.view(-1, 28*28))  #network is already trained and weights are adjusted after epoching \n",
    "        for idx, i in enumerate(output):\n",
    "            if torch.argmax(i) == y[idx]:\n",
    "                correct += 1\n",
    "            total += 1\n",
    "print (\"Accuracy: \", correct/total)"
   ]
  },
  {
   "cell_type": "code",
   "execution_count": 181,
   "id": "16313645",
   "metadata": {},
   "outputs": [
    {
     "data": {
      "image/png": "[encoded data removed]",
      "text/plain": [
       "<Figure size 432x288 with 1 Axes>"
      ]
     },
     "metadata": {
      "needs_background": "light"
     },
     "output_type": "display_data"
    }
   ],
   "source": [
    "import matplotlib.pyplot as plt\n",
    "\n",
    "plt.imshow(X[5].view(28,28))\n",
    "plt.show()\n",
    "\n"
   ]
  },
  {
   "cell_type": "code",
   "execution_count": 194,
   "id": "57792200",
   "metadata": {},
   "outputs": [
    {
     "name": "stdout",
     "output_type": "stream",
     "text": [
      "tensor(5)\n"
     ]
    }
   ],
   "source": [
    "print(torch.argmax(net(X[5].view(-1,28*28))[0]))"
   ]
  },
  {
   "cell_type": "code",
   "execution_count": 195,
   "id": "82b6ddbd",
   "metadata": {},
   "outputs": [],
   "source": [
    "#for data in trainset:\n",
    "    #X, y = data\n",
    "    #print(X.shape)"
   ]
  }
 ],
 "metadata": {
  "kernelspec": {
   "display_name": "Python 3",
   "language": "python",
   "name": "python3"
  },
  "language_info": {
   "codemirror_mode": {
    "name": "ipython",
    "version": 3
   },
   "file_extension": ".py",
   "mimetype": "text/x-python",
   "name": "python",
   "nbconvert_exporter": "python",
   "pygments_lexer": "ipython3",
   "version": "3.8.10"
  }
 },
 "nbformat": 4,
 "nbformat_minor": 5
}

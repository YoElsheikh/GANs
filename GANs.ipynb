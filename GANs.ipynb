{
 "cells": [
  {
   "cell_type": "markdown",
   "id": "9fd06cba",
   "metadata": {},
   "source": [
    "## Generative Adversarial Nets \n",
    "\n",
    "In GANs there's a Generator and a Discriminator, the Generator tries mimicing a given dataset, which somehow tries \n",
    "to optimize the cost so that the output will be close enough to the dataset and the the generated data will be\n",
    "able to \"slip\" the dscriminator  \n",
    "The weights aren't defined for the generator and are defined randomly\n",
    "these weights will pass through a neural network and to the discriminator, which outputs a probability and this probability is \n",
    "measured through a logloss against the error, supposidly a zero error\n",
    "\n",
    "for when the label is 1, $-log (x)$ is a good error function and when the label is 0, $-log(1-x)$ is a good error function. \n",
    "The discriminator is trying to optimize the error function so that it is \"good\" at labeling 0's (the output of the network is 0) and the generator's weights are \n",
    "trained in such a way that the output of the network is 1 (@this is what I understood so far, add details here).\n",
    " \n",
    "Following that we find the derivatives and calculate the weights accordingly through backpropagation. \n",
    "\n",
    "\n"
   ]
  },
  {
   "cell_type": "markdown",
   "id": "e1dbd423",
   "metadata": {},
   "source": [
    "<img src=\"logloss.png\" style=\"width:300px;height:500px\">"
   ]
  },
  {
   "cell_type": "markdown",
   "id": "7dcb3048",
   "metadata": {},
   "source": [
    "So we update the weights in 1), then update the weights of the discriminator at 2) based on the random generated image, and then again update the weight of the discriminator yet again based on the real image"
   ]
  },
  {
   "cell_type": "markdown",
   "id": "03a4df16",
   "metadata": {},
   "source": [
    "<img src=\"gans_setup.png\">"
   ]
  },
  {
   "cell_type": "code",
   "execution_count": null,
   "id": "267d923a",
   "metadata": {},
   "outputs": [],
   "source": []
  }
 ],
 "metadata": {
  "kernelspec": {
   "display_name": "Python 3",
   "language": "python",
   "name": "python3"
  },
  "language_info": {
   "codemirror_mode": {
    "name": "ipython",
    "version": 3
   },
   "file_extension": ".py",
   "mimetype": "text/x-python",
   "name": "python",
   "nbconvert_exporter": "python",
   "pygments_lexer": "ipython3",
   "version": "3.8.10"
  }
 },
 "nbformat": 4,
 "nbformat_minor": 5
}
